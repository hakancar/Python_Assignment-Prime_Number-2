{
  "nbformat": 4,
  "nbformat_minor": 0,
  "metadata": {
    "colab": {
      "name": "Assignment-Prime_Numbers-2.ipynb",
      "provenance": [],
      "authorship_tag": "ABX9TyOIKsLBAMt8PHSBK+Dp2BMp",
      "include_colab_link": true
    },
    "kernelspec": {
      "name": "python3",
      "display_name": "Python 3"
    },
    "language_info": {
      "name": "python"
    }
  },
  "cells": [
    {
      "cell_type": "markdown",
      "metadata": {
        "id": "view-in-github",
        "colab_type": "text"
      },
      "source": [
        "<a href=\"https://colab.research.google.com/github/hakancar/Python_Assignment-Prime_Number-2/blob/main/Assignment_Prime_Numbers_2.ipynb\" target=\"_parent\"><img src=\"https://colab.research.google.com/assets/colab-badge.svg\" alt=\"Open In Colab\"/></a>"
      ]
    },
    {
      "cell_type": "code",
      "metadata": {
        "colab": {
          "base_uri": "https://localhost:8080/"
        },
        "id": "RuAtdjFnYWpw",
        "outputId": "9ea5bdb3-6035-45ad-8b30-53fb68812652"
      },
      "source": [
        "limit = int(input(\"Enter a limit number:\"))\n",
        "prime_numbers = []\n",
        "for a in range(2,limit):\n",
        "    for b in range(2,a):\n",
        "        if (a%b==0):\n",
        "            break\n",
        "    else:\n",
        "      prime_numbers.append(a)\n",
        "print(prime_numbers)"
      ],
      "execution_count": 10,
      "outputs": [
        {
          "output_type": "stream",
          "text": [
            "Enter a limit number:100\n",
            "[2, 3, 5, 7, 11, 13, 17, 19, 23, 29, 31, 37, 41, 43, 47, 53, 59, 61, 67, 71, 73, 79, 83, 89, 97]\n"
          ],
          "name": "stdout"
        }
      ]
    }
  ]
}